{
 "cells": [
  {
   "cell_type": "markdown",
   "id": "52119ff5",
   "metadata": {},
   "source": [
    "<font size=\"4\">1.Importing the suitable libraries</font>"
   ]
  },
  {
   "cell_type": "code",
   "execution_count": 1,
   "id": "caf1f172",
   "metadata": {},
   "outputs": [
    {
     "name": "stderr",
     "output_type": "stream",
     "text": [
      "/home/s5532166/.pyenv/versions/anaconda3-2022.05/envs/ML_Labs/lib/python3.8/site-packages/tqdm/auto.py:22: TqdmWarning: IProgress not found. Please update jupyter and ipywidgets. See https://ipywidgets.readthedocs.io/en/stable/user_install.html\n",
      "  from .autonotebook import tqdm as notebook_tqdm\n"
     ]
    }
   ],
   "source": [
    "import os\n",
    "import torch \n",
    "import torchvision\n",
    "import numpy as np\n",
    "import torch.nn as nn\n",
    "import torchvision.transforms as transforms\n",
    "import torch.optim as optim\n",
    "import matplotlib.pyplot as plt\n",
    "%matplotlib inline\n",
    "import torch.nn.functional as F\n",
    "from torchvision import datasets\n",
    "from torch.utils.data import DataLoader\n",
    "from torchvision.utils import save_image\n",
    "import cv2\n",
    "from PIL import Image\n",
    "from torch.utils.tensorboard import SummaryWriter\n",
    "import time\n",
    "\n",
    "from utils import get_transform"
   ]
  },
  {
   "cell_type": "markdown",
   "id": "7173e4cb",
   "metadata": {},
   "source": [
    "<font size=\"4\">2.Defining some constants</font>"
   ]
  },
  {
   "cell_type": "code",
   "execution_count": 2,
   "id": "37a68130",
   "metadata": {},
   "outputs": [],
   "source": [
    "#A constant is a particular kind of variable that stores values that are fixed.\n",
    "\n",
    "NUM_EPOCHS = 20\n",
    "LEARNING_RATE = 1e-3\n",
    "BATCH_SIZE = 16\n",
    "NOISE_FACTOR = 0.5"
   ]
  },
  {
   "cell_type": "markdown",
   "id": "57c40120",
   "metadata": {},
   "source": [
    "<font size=\"4\">3.Converting the picture pixel data to PyTorch tensors and normalising the values.</font>"
   ]
  },
  {
   "cell_type": "code",
   "execution_count": 3,
   "id": "4135463b",
   "metadata": {},
   "outputs": [],
   "source": [
    "transform = get_transform()\n",
    " \n",
    "#The pixel values will fall inside the range [0, 1] after being normalised. \n",
    "#Compared to the [0, 256] pixel value range, Normalize function leads to quicker training."
   ]
  },
  {
   "cell_type": "markdown",
   "id": "ecf11813",
   "metadata": {},
   "source": [
    "<font size=\"4\">4.Downloading the MNIST_Fashion Dataset.</font>"
   ]
  },
  {
   "cell_type": "code",
   "execution_count": 4,
   "id": "236c55e8",
   "metadata": {},
   "outputs": [],
   "source": [
    "#Getting ready the trainloader, testloader and validation sets for the respective training and testing.\n",
    "\n",
    "trainset = datasets.FashionMNIST(\n",
    "    root='./data',\n",
    "    train=True, \n",
    "    download=True,\n",
    "    transform=transform\n",
    ")\n",
    "testset = datasets.FashionMNIST(\n",
    "    root='./data',\n",
    "    train=False,\n",
    "    download=True,\n",
    "    transform=transform\n",
    ")\n",
    "valset = datasets.FashionMNIST(\n",
    "    root='./data',\n",
    "    train=False,\n",
    "    download=True,\n",
    "    transform=transform\n",
    ")"
   ]
  },
  {
   "cell_type": "markdown",
   "id": "4b27a67b",
   "metadata": {},
   "source": [
    "<font size=\"4\">5.Splitting the dataset for training, testing and validation</font>"
   ]
  },
  {
   "cell_type": "code",
   "execution_count": 5,
   "id": "eae4fb69",
   "metadata": {},
   "outputs": [],
   "source": [
    "#trainloader\n",
    "trainloader = DataLoader(\n",
    "    trainset, \n",
    "    batch_size=BATCH_SIZE,\n",
    "    shuffle=True\n",
    ")\n",
    "#testloader\n",
    "testloader = DataLoader(\n",
    "    testset, \n",
    "    batch_size=BATCH_SIZE, \n",
    "    shuffle=True\n",
    ")\n",
    "#validation\n",
    "val_loader = DataLoader(\n",
    "    testset, \n",
    "    batch_size=BATCH_SIZE, \n",
    "    shuffle=True)"
   ]
  },
  {
   "cell_type": "markdown",
   "id": "b7ff7400",
   "metadata": {},
   "source": [
    "<font size=\"4\">6.Plotting an image from the dataset using Matplotlib</font>"
   ]
  },
  {
   "cell_type": "code",
   "execution_count": 6,
   "id": "2618e884",
   "metadata": {},
   "outputs": [
    {
     "data": {
      "text/plain": [
       "<matplotlib.image.AxesImage at 0x7ff2e2bf4610>"
      ]
     },
     "execution_count": 6,
     "metadata": {},
     "output_type": "execute_result"
    },
    {
     "data": {
      "image/png": "[encoded data removed]",
      "text/plain": [
       "<Figure size 500x500 with 1 Axes>"
      ]
     },
     "metadata": {},
     "output_type": "display_data"
    }
   ],
   "source": [
    "#Getting a batch of training images\n",
    "dataiter = iter(trainloader)\n",
    "images, labels = dataiter.next()\n",
    "images = images.numpy()\n",
    "#Visualising a random image from the dataset.\n",
    "img = np.squeeze(images[0])\n",
    "\n",
    "fig = plt.figure(figsize = (5,5)) \n",
    "ax = fig.add_subplot(111)\n",
    "ax.imshow(img, cmap='gray')"
   ]
  },
  {
   "cell_type": "markdown",
   "id": "b30eb68c",
   "metadata": {},
   "source": [
    "<font size=\"4\">7.Autoencoder network with encoder and decoder layers</font>"
   ]
  },
  {
   "cell_type": "code",
   "execution_count": 7,
   "id": "2f144d0e",
   "metadata": {},
   "outputs": [
    {
     "name": "stdout",
     "output_type": "stream",
     "text": [
      "Autoencoder(\n",
      "  (enc1): Conv2d(1, 64, kernel_size=(3, 3), stride=(1, 1), padding=(1, 1))\n",
      "  (enc2): Conv2d(64, 32, kernel_size=(3, 3), stride=(1, 1), padding=(1, 1))\n",
      "  (enc3): Conv2d(32, 16, kernel_size=(3, 3), stride=(1, 1), padding=(1, 1))\n",
      "  (enc4): Conv2d(16, 8, kernel_size=(3, 3), stride=(1, 1), padding=(1, 1))\n",
      "  (pool): MaxPool2d(kernel_size=2, stride=2, padding=0, dilation=1, ceil_mode=False)\n",
      "  (dec1): ConvTranspose2d(8, 8, kernel_size=(3, 3), stride=(2, 2))\n",
      "  (dec2): ConvTranspose2d(8, 16, kernel_size=(3, 3), stride=(2, 2))\n",
      "  (dec3): ConvTranspose2d(16, 32, kernel_size=(2, 2), stride=(2, 2))\n",
      "  (dec4): ConvTranspose2d(32, 64, kernel_size=(2, 2), stride=(2, 2))\n",
      "  (out): Conv2d(64, 1, kernel_size=(3, 3), stride=(1, 1), padding=(1, 1))\n",
      ")\n"
     ]
    }
   ],
   "source": [
    "#Autoencoder\n",
    "### Modified from :-\n",
    "### Javier Fernandez (November 8, 2020). Autoencoder in PyTorch for the Fashion-MNIST dataset [online].\n",
    "### [Accessed: January 5, 2023]. Available from - 'https://javiferfer.medium.com/autoencoder-in-pytorch-for-the-fashion-mnist-dataset-66f4fb9465b4'\n",
    "### Original code is available in a txt file named as 3rd_party_code.\n",
    "\n",
    "class Autoencoder(nn.Module):\n",
    "    def __init__(self):\n",
    "        super(Autoencoder, self).__init__()\n",
    "        # encoder layers\n",
    "        self.enc1 = nn.Conv2d(1, 64, kernel_size=3, padding=1)\n",
    "        self.enc2 = nn.Conv2d(64, 32, kernel_size=3, padding=1)\n",
    "        self.enc3 = nn.Conv2d(32, 16, kernel_size=3, padding=1)\n",
    "        self.enc4 = nn.Conv2d(16, 8, kernel_size=3, padding=1)\n",
    "        self.pool = nn.MaxPool2d(2, 2)\n",
    "        \n",
    "        # decoder layers\n",
    "        self.dec1 = nn.ConvTranspose2d(8, 8, kernel_size=3, stride=2)  \n",
    "        self.dec2 = nn.ConvTranspose2d(8, 16, kernel_size=3, stride=2)\n",
    "        self.dec3 = nn.ConvTranspose2d(16, 32, kernel_size=2, stride=2)\n",
    "        self.dec4 = nn.ConvTranspose2d(32, 64, kernel_size=2, stride=2)\n",
    "        self.out = nn.Conv2d(64, 1, kernel_size=3, padding=1)\n",
    "    def forward(self, x):\n",
    "        # encode\n",
    "        x = F.relu(self.enc1(x))\n",
    "        x = self.pool(x)\n",
    "        x = F.relu(self.enc2(x))\n",
    "        x = self.pool(x)\n",
    "        x = F.relu(self.enc3(x))\n",
    "        x = self.pool(x)\n",
    "        x = F.relu(self.enc4(x))\n",
    "        x = self.pool(x) # the latent space representation\n",
    "        \n",
    "        # decode\n",
    "        x = F.relu(self.dec1(x))\n",
    "        x = F.relu(self.dec2(x))\n",
    "        x = F.relu(self.dec3(x))\n",
    "        x = F.relu(self.dec4(x))\n",
    "        x = F.sigmoid(self.out(x))\n",
    "        return x\n",
    "net = Autoencoder()\n",
    "print(net)\n"
   ]
  },
  {
   "cell_type": "markdown",
   "id": "9540e60e",
   "metadata": {},
   "source": [
    "<font size=\"4\">8.Logging using Tensorboard</font>"
   ]
  },
  {
   "cell_type": "code",
   "execution_count": 8,
   "id": "2f0753ae",
   "metadata": {},
   "outputs": [],
   "source": [
    "#Logging\n",
    "tb_writer = SummaryWriter()\n",
    "\n",
    "#TensorBoard allows to plot various metrics such as loss, accuracy, and other custom metrics over time, \n",
    "#which can help in understanding the performance of the model and identify trends or patterns."
   ]
  },
  {
   "cell_type": "markdown",
   "id": "1c048970",
   "metadata": {},
   "source": [
    "<font size=\"4\">9.Loss function</font>"
   ]
  },
  {
   "cell_type": "code",
   "execution_count": 9,
   "id": "2871bc00",
   "metadata": {},
   "outputs": [],
   "source": [
    "# the loss function\n",
    "criterion = nn.MSELoss()\n",
    "\n",
    "#The criterion loss function is used to calculate the difference between the original, clean input and the model's output. \n",
    "#This disparity, also known as the reconstruction error, is used to train the model to reduce the amount of noise in the output."
   ]
  },
  {
   "cell_type": "markdown",
   "id": "fb9cdf07",
   "metadata": {},
   "source": [
    "<font size=\"4\">10.Optimizer</font>"
   ]
  },
  {
   "cell_type": "code",
   "execution_count": 10,
   "id": "8318ae3d",
   "metadata": {},
   "outputs": [],
   "source": [
    "# the optimizer\n",
    "optimizer = optim.Adam(net.parameters(), lr=LEARNING_RATE)\n",
    "\n",
    "#The Adam optimizer adjusts the learning rate for each parameter depending on the historical gradient \n",
    "#and the historical gradient square, which can aid in model convergence."
   ]
  },
  {
   "cell_type": "markdown",
   "id": "ef37988c",
   "metadata": {},
   "source": [
    "<font size=\"4\">11.Training and Validation functions</font>"
   ]
  },
  {
   "cell_type": "code",
   "execution_count": 11,
   "id": "643b541f",
   "metadata": {},
   "outputs": [],
   "source": [
    "# the training function\n",
    "def train(net, trainloader, NUM_EPOCHS, writer):\n",
    "#     train_loss = []\n",
    "    for epoch in range(NUM_EPOCHS):\n",
    "        running_loss = 0.0\n",
    "        net.train()\n",
    "        for data in trainloader:\n",
    "            img, _ = data \n",
    "            # adding noise to the image data\n",
    "            img_noisy = img + NOISE_FACTOR * torch.randn(img.shape)\n",
    "            # clipping to make the values fall between 0 and 1\n",
    "            img_noisy = np.clip(img_noisy, 0., 1.)\n",
    "            img_noisy = img_noisy.to(device)\n",
    "            optimizer.zero_grad()\n",
    "            outputs = net(img_noisy)\n",
    "            loss = criterion(outputs, img_noisy)\n",
    "            # backpropagation\n",
    "            loss.backward()\n",
    "            # updating the parameters\n",
    "            optimizer.step()\n",
    "            running_loss += loss.item()\n",
    "        \n",
    "        loss = running_loss / len(trainloader)\n",
    "        writer.add_scalar(\"Loss/train\", loss, epoch)\n",
    "\n",
    "        #Validation function\n",
    "        \n",
    "        net.eval()\n",
    "        running_loss_val = 0.0\n",
    "        with torch.no_grad():\n",
    "            for img, _ in val_loader:\n",
    "                # adding noise to the image data\n",
    "                img_noisy = img + NOISE_FACTOR * torch.randn(img.shape)\n",
    "                # clipping to make the values fall between 0 and 1\n",
    "                img_noisy = np.clip(img_noisy, 0., 1.)\n",
    "                img_noisy = img_noisy.to(device)\n",
    "                output = net(img_noisy)\n",
    "                loss = criterion(output, img_noisy)\n",
    "                running_loss_val += loss.item()\n",
    "\n",
    "        loss_epoch = running_loss_val / len(val_loader) \n",
    "        writer.add_scalar(\"Loss/val\", loss_epoch, epoch)\n",
    "        print('Epoch {} of {}, Train Loss: {:.3f}, Val Loss: {:.3f}'.format(\n",
    "            epoch+1, NUM_EPOCHS, loss, loss_epoch))\n",
    "        save_decoded_image(img_noisy.cpu().data, name='./Saved_Images/noisy{}.png'.format(epoch))\n",
    "        save_decoded_image(outputs.cpu().data, name='./Saved_Images/denoised{}.png'.format(epoch))\n",
    "    return loss_epoch"
   ]
  },
  {
   "cell_type": "markdown",
   "id": "64bb3e0d",
   "metadata": {},
   "source": [
    "<font size=\"4\">12.Testing function</font>"
   ]
  },
  {
   "cell_type": "code",
   "execution_count": 12,
   "id": "6bf6cb4b",
   "metadata": {},
   "outputs": [],
   "source": [
    "def test_image_reconstruction(net, testloader):\n",
    "     for batch in testloader:\n",
    "        img, _ = batch\n",
    "        # adding noise to the image data\n",
    "        img_noisy = img + NOISE_FACTOR * torch.randn(img.shape)\n",
    "        # clipping to make the values fall between 0 and 1\n",
    "        img_noisy = np.clip(img_noisy, 0., 1.)\n",
    "        img_noisy = img_noisy.to(device)\n",
    "        outputs = net(img_noisy)\n",
    "        outputs = outputs.view(outputs.size(0), 1, 28, 28).cpu().data\n",
    "        #saving the noisy and denoised images\n",
    "        save_image(img_noisy, 'noisy_test_input.png')\n",
    "        save_image(outputs, 'denoised_test_reconstruction.png')\n",
    "        break"
   ]
  },
  {
   "cell_type": "markdown",
   "id": "3408f377",
   "metadata": {},
   "source": [
    "<font size=\"4\">13.GPU selection, saving and training loop</font>"
   ]
  },
  {
   "cell_type": "code",
   "execution_count": 13,
   "id": "277d01c9",
   "metadata": {},
   "outputs": [],
   "source": [
    "def get_device():\n",
    "    if torch.cuda.is_available():\n",
    "        device = 'cuda:0'\n",
    "    else:\n",
    "        device = 'cpu'\n",
    "    return device\n",
    "def make_dir():\n",
    "    image_dir = 'Saved_Images'\n",
    "    if not os.path.exists(image_dir):\n",
    "        os.makedirs(image_dir)\n",
    "def save_decoded_image(img, name):\n",
    "    img = img.view(img.size(0), 1, 28, 28)\n",
    "    save_image(img, name)"
   ]
  },
  {
   "cell_type": "code",
   "execution_count": 14,
   "id": "58fb7865",
   "metadata": {},
   "outputs": [
    {
     "name": "stdout",
     "output_type": "stream",
     "text": [
      "cuda:0\n"
     ]
    },
    {
     "name": "stderr",
     "output_type": "stream",
     "text": [
      "/home/s5532166/.pyenv/versions/anaconda3-2022.05/envs/ML_Labs/lib/python3.8/site-packages/torch/nn/functional.py:1960: UserWarning: nn.functional.sigmoid is deprecated. Use torch.sigmoid instead.\n",
      "  warnings.warn(\"nn.functional.sigmoid is deprecated. Use torch.sigmoid instead.\")\n"
     ]
    },
    {
     "name": "stdout",
     "output_type": "stream",
     "text": [
      "Epoch 1 of 20, Train Loss: 0.057, Val Loss: 0.056\n",
      "Epoch 2 of 20, Train Loss: 0.058, Val Loss: 0.055\n",
      "Epoch 3 of 20, Train Loss: 0.060, Val Loss: 0.055\n",
      "Epoch 4 of 20, Train Loss: 0.054, Val Loss: 0.055\n",
      "Epoch 5 of 20, Train Loss: 0.069, Val Loss: 0.054\n",
      "Epoch 6 of 20, Train Loss: 0.049, Val Loss: 0.054\n",
      "Epoch 7 of 20, Train Loss: 0.046, Val Loss: 0.054\n",
      "Epoch 8 of 20, Train Loss: 0.068, Val Loss: 0.054\n",
      "Epoch 9 of 20, Train Loss: 0.037, Val Loss: 0.054\n",
      "Epoch 10 of 20, Train Loss: 0.061, Val Loss: 0.054\n",
      "Epoch 11 of 20, Train Loss: 0.053, Val Loss: 0.053\n",
      "Epoch 12 of 20, Train Loss: 0.047, Val Loss: 0.053\n",
      "Epoch 13 of 20, Train Loss: 0.054, Val Loss: 0.054\n",
      "Epoch 14 of 20, Train Loss: 0.056, Val Loss: 0.053\n",
      "Epoch 15 of 20, Train Loss: 0.057, Val Loss: 0.053\n",
      "Epoch 16 of 20, Train Loss: 0.060, Val Loss: 0.053\n",
      "Epoch 17 of 20, Train Loss: 0.055, Val Loss: 0.053\n",
      "Epoch 18 of 20, Train Loss: 0.051, Val Loss: 0.053\n",
      "Epoch 19 of 20, Train Loss: 0.050, Val Loss: 0.053\n",
      "Epoch 20 of 20, Train Loss: 0.050, Val Loss: 0.053\n"
     ]
    }
   ],
   "source": [
    "device = get_device()\n",
    "print(device)\n",
    "net.to(device)\n",
    "make_dir()\n",
    "train_loss = train(net, trainloader, NUM_EPOCHS, tb_writer)\n",
    "test_image_reconstruction(net, testloader)"
   ]
  },
  {
   "cell_type": "markdown",
   "id": "569c64d8",
   "metadata": {},
   "source": [
    "<font size=\"4\">14.Plotting Noisy and Reconstructed Denoised images</font>"
   ]
  },
  {
   "cell_type": "code",
   "execution_count": 15,
   "id": "473dee30",
   "metadata": {},
   "outputs": [
    {
     "data": {
      "image/png": "[encoded data removed]",
      "text/plain": [
       "<Figure size 1500x1500 with 1 Axes>"
      ]
     },
     "metadata": {},
     "output_type": "display_data"
    }
   ],
   "source": [
    "#Visualising noisy image saved during the training.\n",
    "\n",
    "import matplotlib.image as mpimg\n",
    "\n",
    "fig = plt.figure(figsize = (15,15)) \n",
    "\n",
    "img = mpimg.imread(\"noisy_test_input.png\")\n",
    "plt.title('noisy input')\n",
    "imgplot = plt.imshow(img)\n",
    "plt.show()"
   ]
  },
  {
   "cell_type": "code",
   "execution_count": 16,
   "id": "b1e45201",
   "metadata": {},
   "outputs": [
    {
     "data": {
      "image/png": "[encoded data removed]",
      "text/plain": [
       "<Figure size 1500x1500 with 1 Axes>"
      ]
     },
     "metadata": {},
     "output_type": "display_data"
    }
   ],
   "source": [
    "#Displaying the denoised image \n",
    "\n",
    "fig = plt.figure(figsize = (15,15)) \n",
    "\n",
    "img = mpimg.imread(\"denoised_test_reconstruction.png\")\n",
    "plt.title('denoised output')\n",
    "imgplot = plt.imshow(img)\n",
    "plt.show()"
   ]
  },
  {
   "cell_type": "markdown",
   "id": "53790e23",
   "metadata": {},
   "source": [
    "<font size=\"4\">15.Checkpointing</font>"
   ]
  },
  {
   "cell_type": "code",
   "execution_count": 17,
   "id": "81d50850",
   "metadata": {},
   "outputs": [],
   "source": [
    "#Creating checkpoints\n",
    "if (NUM_EPOCHS+1):\n",
    "    checkpoint_path = \"checkpoint_{}.pth\".format(NUM_EPOCHS+1)\n",
    "    torch.save({'NUM_EPOCHS': NUM_EPOCHS+0,\n",
    "                    'model_state_dict': net.state_dict(),\n",
    "                    'optimizer_state_dict': optimizer.state_dict()},\n",
    "                   checkpoint_path)\n"
   ]
  },
  {
   "cell_type": "markdown",
   "id": "bdf38815",
   "metadata": {},
   "source": [
    "<font size=\"4\">16.Deployment</font>"
   ]
  },
  {
   "cell_type": "code",
   "execution_count": 18,
   "id": "b1b6a89d",
   "metadata": {},
   "outputs": [],
   "source": [
    "#Deployment(loading the model from the checkpoint)\n",
    "\n",
    "checkpoint_path = \"checkpoint_21.pth\"\n",
    "checkpoint = torch.load(checkpoint_path)\n",
    "\n",
    "net.load_state_dict(checkpoint['model_state_dict'])\n",
    "optimizer.load_state_dict(checkpoint['optimizer_state_dict'])\n",
    "\n",
    "NUM_EPOCHS = checkpoint['NUM_EPOCHS']"
   ]
  }
 ],
 "metadata": {
  "kernelspec": {
   "display_name": "Python 3 (ipykernel)",
   "language": "python",
   "name": "python3"
  },
  "language_info": {
   "codemirror_mode": {
    "name": "ipython",
    "version": 3
   },
   "file_extension": ".py",
   "mimetype": "text/x-python",
   "name": "python",
   "nbconvert_exporter": "python",
   "pygments_lexer": "ipython3",
   "version": "3.8.0"
  }
 },
 "nbformat": 4,
 "nbformat_minor": 5
}
